{
 "cells": [
  {
   "cell_type": "code",
   "execution_count": 2,
   "id": "db4883c3-fb29-4ae3-b55a-ad9600deecfb",
   "metadata": {},
   "outputs": [
    {
     "name": "stdin",
     "output_type": "stream",
     "text": [
      "enter your four digit pin number: 1234\n"
     ]
    },
    {
     "name": "stdout",
     "output_type": "stream",
     "text": [
      "access granted\n"
     ]
    },
    {
     "name": "stdin",
     "output_type": "stream",
     "text": [
      "enter amount 5000\n"
     ]
    },
    {
     "name": "stdout",
     "output_type": "stream",
     "text": [
      "amount withdraw 5000\n",
      "remaining balance 0\n",
      "Thank you for banking..\n"
     ]
    }
   ],
   "source": [
    "#atm\n",
    "pin=int(input(\"enter your four digit pin number:\")) \n",
    "spin=1234\n",
    "balance=5000\n",
    "if pin==spin:\n",
    "    print(\"access granted\")\n",
    "    withdraw=int(input(\"enter amount\"))\n",
    "    if withdraw>balance:\n",
    "        print(\"insufficient funds\")\n",
    "    else:\n",
    "        print(\"amount withdraw\",withdraw)\n",
    "        print(\"remaining balance\",balance-withdraw)\n",
    "        print(\"Thank you for banking..\")\n",
    "else:\n",
    "    print(\"access denied wrong pin\")"
   ]
  },
  {
   "cell_type": "code",
   "execution_count": 3,
   "id": "cd34303d-5c58-43b0-8560-a54b7ad78d78",
   "metadata": {},
   "outputs": [
    {
     "name": "stdin",
     "output_type": "stream",
     "text": [
      "enter a number 4\n"
     ]
    },
    {
     "name": "stdout",
     "output_type": "stream",
     "text": [
      "manu manu manu manu "
     ]
    }
   ],
   "source": [
    "#looping statements and control statements\n",
    "#while\n",
    "#for\n",
    "#break\n",
    "#continue\n",
    "#pass\n",
    "#while_-else\n",
    "#for else\n",
    "num=int(input(\"enter a number\"))\n",
    "loop=0\n",
    "while loop<num:\n",
    "    print(\"manu\",end=' ')\n",
    "    loop+=1"
   ]
  },
  {
   "cell_type": "code",
   "execution_count": 4,
   "id": "ccb59f0a-06d4-4501-8470-21d3584ba335",
   "metadata": {},
   "outputs": [
    {
     "name": "stdin",
     "output_type": "stream",
     "text": [
      "enter your four digit pin number: 6789\n"
     ]
    },
    {
     "name": "stdout",
     "output_type": "stream",
     "text": [
      "access denied wrong pin\n"
     ]
    }
   ],
   "source": [
    "#atm\n",
    "pin=int(input(\"enter your four digit pin number:\")) \n",
    "spin=1234\n",
    "balance=5000\n",
    "if pin==spin:\n",
    "    print(\"access granted\")\n",
    "    withdraw=int(input(\"enter amount\"))\n",
    "    if withdraw>balance:\n",
    "        print(\"insufficient funds\")\n",
    "    else:\n",
    "        print(\"amount withdraw\",withdraw)\n",
    "        print(\"remaining balance\",balance-withdraw)\n",
    "        print(\"Thank you for banking..\")\n",
    "else:\n",
    "    print(\"access denied wrong pin\")"
   ]
  },
  {
   "cell_type": "code",
   "execution_count": 6,
   "id": "88e94963-c4f0-4ea8-a797-e8fd5a85244a",
   "metadata": {},
   "outputs": [
    {
     "name": "stdin",
     "output_type": "stream",
     "text": [
      "enter a number 4\n"
     ]
    },
    {
     "name": "stdout",
     "output_type": "stream",
     "text": [
      "manu\n",
      "manu\n",
      "manu\n",
      "manu\n"
     ]
    }
   ],
   "source": [
    "num=int(input(\"enter a number\"))\n",
    "loop=0\n",
    "while loop<num:\n",
    "    print(\"manu\")\n",
    "    loop+=1"
   ]
  },
  {
   "cell_type": "code",
   "execution_count": 7,
   "id": "7ca06365-e1fb-424f-82cd-4ff2b463c42d",
   "metadata": {},
   "outputs": [
    {
     "name": "stdin",
     "output_type": "stream",
     "text": [
      "enter a number 10\n"
     ]
    },
    {
     "name": "stdout",
     "output_type": "stream",
     "text": [
      "1\n",
      "2\n",
      "3\n",
      "4\n",
      "5\n",
      "6\n",
      "7\n",
      "8\n",
      "9\n"
     ]
    }
   ],
   "source": [
    "#write a program to print the first n natural numbers till 50\n",
    "num=int(input(\"enter a number\"))\n",
    "loop=1\n",
    "while loop<num:\n",
    "    print(loop)\n",
    "    loop+=1"
   ]
  },
  {
   "cell_type": "code",
   "execution_count": 8,
   "id": "829fbb2a-7ada-43a2-b118-e1a9b5ab10d6",
   "metadata": {},
   "outputs": [
    {
     "name": "stdout",
     "output_type": "stream",
     "text": [
      "10\n",
      "9\n",
      "8\n",
      "7\n",
      "6\n",
      "5\n",
      "4\n",
      "3\n",
      "2\n",
      "1\n"
     ]
    }
   ],
   "source": [
    "##### num=int(input(\"enter a number\"))\n",
    "while num>=1:\n",
    "    print(num)\n",
    "    num-=1"
   ]
  },
  {
   "cell_type": "code",
   "execution_count": null,
   "id": "106c1515-16b1-44e5-a0fb-1c2a6b29f5e8",
   "metadata": {},
   "outputs": [],
   "source": []
  }
 ],
 "metadata": {
  "kernelspec": {
   "display_name": "Python 3 (ipykernel)",
   "language": "python",
   "name": "python3"
  },
  "language_info": {
   "codemirror_mode": {
    "name": "ipython",
    "version": 3
   },
   "file_extension": ".py",
   "mimetype": "text/x-python",
   "name": "python",
   "nbconvert_exporter": "python",
   "pygments_lexer": "ipython3",
   "version": "3.13.4"
  }
 },
 "nbformat": 4,
 "nbformat_minor": 5
}
