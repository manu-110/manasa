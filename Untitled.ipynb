{
 "cells": [
  {
   "cell_type": "code",
   "execution_count": 2,
   "id": "c595003d-3e59-48fb-a3c2-31c2f0de22ac",
   "metadata": {},
   "outputs": [
    {
     "name": "stdin",
     "output_type": "stream",
     "text": [
      "enter the number 153\n"
     ]
    },
    {
     "name": "stdout",
     "output_type": "stream",
     "text": [
      "latest value of sum: 153\n",
      "latest value of temp: 0\n",
      "153 is armstrong number\n"
     ]
    }
   ],
   "source": [
    "#armstrong number\n",
    "num=int(input('enter the number'))\n",
    "temp=num\n",
    "n=len(str(num))\n",
    "sum=0\n",
    "while temp>0:\n",
    "    digital=temp%10\n",
    "    sum+=digital**n\n",
    "    temp//=10\n",
    "print(\"latest value of sum:\",sum)\n",
    "print(\"latest value of temp:\",temp)\n",
    "if sum==num:\n",
    "    print(num,\"is armstrong number\")\n",
    "else:\n",
    "    print(num,\"is not armstrong number\")"
   ]
  },
  {
   "cell_type": "code",
   "execution_count": 3,
   "id": "d787393c-e032-45b5-ae4d-9d13bfca6cc9",
   "metadata": {},
   "outputs": [
    {
     "name": "stdin",
     "output_type": "stream",
     "text": [
      "enter the number 135\n"
     ]
    },
    {
     "name": "stdout",
     "output_type": "stream",
     "text": [
      "latest value of sum: 153\n",
      "latest value of temp: 0\n",
      "135 is not armstrong number\n"
     ]
    }
   ],
   "source": [
    "#armstrong number\n",
    "num=int(input('enter the number'))\n",
    "temp=num\n",
    "n=len(str(num))\n",
    "sum=0\n",
    "while temp>0:\n",
    "    digital=temp%10\n",
    "    sum+=digital**n\n",
    "    temp//=10\n",
    "print(\"latest value of sum:\",sum)\n",
    "print(\"latest value of temp:\",temp)\n",
    "if sum==num:\n",
    "    print(num,\"is armstrong number\")\n",
    "else:\n",
    "    print(num,\"is not armstrong number\")"
   ]
  },
  {
   "cell_type": "code",
   "execution_count": 4,
   "id": "6eba2bef-d2c0-427c-b689-4f9da891f72b",
   "metadata": {},
   "outputs": [
    {
     "name": "stdin",
     "output_type": "stream",
     "text": [
      "enter the number 156\n"
     ]
    },
    {
     "name": "stdout",
     "output_type": "stream",
     "text": [
      "latest value of sum: 12\n",
      "latest value of temp: 0\n",
      "156 is nivens number\n"
     ]
    }
   ],
   "source": [
    "#niven's/harhad\n",
    "num=int(input('enter the number'))\n",
    "temp=num\n",
    "sum=0\n",
    "while temp>0:\n",
    "    digit=temp%10\n",
    "    sum+=digit\n",
    "    temp//=10\n",
    "print(\"latest value of sum:\",sum)\n",
    "print(\"latest value of temp:\",temp)\n",
    "if num%sum==0:\n",
    "    print(num,\"is nivens number\")\n",
    "else:\n",
    "    print(num,\"is not nivens number\")\n",
    "        "
   ]
  },
  {
   "cell_type": "code",
   "execution_count": 6,
   "id": "233941fa-5add-4da3-bc53-ef5e7c8a0867",
   "metadata": {},
   "outputs": [
    {
     "name": "stdout",
     "output_type": "stream",
     "text": [
      "manu\n",
      "manu\n",
      "manu\n",
      "manu\n",
      "manu\n",
      "manu\n",
      "manu\n",
      "manu\n",
      "manu\n"
     ]
    }
   ],
   "source": [
    "#for loop\n",
    "for i in range(1,10):\n",
    "    print('manu')"
   ]
  },
  {
   "cell_type": "code",
   "execution_count": 7,
   "id": "fc5de857-438b-4c5d-a716-29863cc6c5ab",
   "metadata": {},
   "outputs": [
    {
     "name": "stdout",
     "output_type": "stream",
     "text": [
      "5 6 7 8 9 "
     ]
    }
   ],
   "source": [
    "for i in range(5,10):\n",
    "    print(i,end=' ')"
   ]
  },
  {
   "cell_type": "code",
   "execution_count": 8,
   "id": "443583df-35ff-4d10-9aae-783fa2de51b5",
   "metadata": {},
   "outputs": [
    {
     "name": "stdin",
     "output_type": "stream",
     "text": [
      "enter a word: manu\n"
     ]
    },
    {
     "name": "stdout",
     "output_type": "stream",
     "text": [
      "m\n",
      "a\n",
      "n\n",
      "u\n"
     ]
    }
   ],
   "source": [
    "word=input(\"enter a word:\")\n",
    "for ch in word:\n",
    "    print(ch)"
   ]
  },
  {
   "cell_type": "code",
   "execution_count": 9,
   "id": "0b0ebb96-949f-44b1-b517-aa96d8fa7133",
   "metadata": {},
   "outputs": [
    {
     "name": "stdout",
     "output_type": "stream",
     "text": [
      "10 9 8 7 6 5 4 3 2 1 0 "
     ]
    }
   ],
   "source": [
    "for i in range(10,-1,-1):\n",
    "    print(i,end=' ')"
   ]
  },
  {
   "cell_type": "code",
   "execution_count": 10,
   "id": "5a678604-9f2e-4c1d-87ca-cc2921b753b7",
   "metadata": {},
   "outputs": [
    {
     "name": "stdout",
     "output_type": "stream",
     "text": [
      "square of1 is 1\n",
      "square of2 is 4\n",
      "square of3 is 9\n",
      "square of4 is 16\n",
      "square of5 is 25\n",
      "square of6 is 36\n",
      "square of7 is 49\n",
      "square of8 is 64\n",
      "square of9 is 81\n",
      "square of10 is 100\n"
     ]
    }
   ],
   "source": [
    "#sum of square by using for loop\n",
    "for i in range(1,11):\n",
    "    print(f\"square of{i} is {i*i}\")"
   ]
  },
  {
   "cell_type": "code",
   "execution_count": 11,
   "id": "90b1db40-5655-4241-8a2a-3a856473464f",
   "metadata": {},
   "outputs": [
    {
     "name": "stdout",
     "output_type": "stream",
     "text": [
      "2 * 1 = 2\n",
      "2 * 2 = 4\n",
      "2 * 3 = 6\n",
      "2 * 4 = 8\n",
      "2 * 5 = 10\n",
      "2 * 6 = 12\n",
      "2 * 7 = 14\n",
      "2 * 8 = 16\n",
      "2 * 9 = 18\n",
      "2 * 10 = 20\n"
     ]
    }
   ],
   "source": [
    "num = 2\n",
    "for i in range(1, 11):  # Loop from 1 to 10\n",
    "    product = num * i\n",
    "    print(f\"{num} * {i} = {product}\")"
   ]
  },
  {
   "cell_type": "code",
   "execution_count": null,
   "id": "143c3750-89ea-4d04-9a6f-d8ec25b6d9eb",
   "metadata": {},
   "outputs": [],
   "source": []
  }
 ],
 "metadata": {
  "kernelspec": {
   "display_name": "Python 3 (ipykernel)",
   "language": "python",
   "name": "python3"
  },
  "language_info": {
   "codemirror_mode": {
    "name": "ipython",
    "version": 3
   },
   "file_extension": ".py",
   "mimetype": "text/x-python",
   "name": "python",
   "nbconvert_exporter": "python",
   "pygments_lexer": "ipython3",
   "version": "3.13.4"
  }
 },
 "nbformat": 4,
 "nbformat_minor": 5
}
