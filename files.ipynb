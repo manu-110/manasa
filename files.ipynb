{
 "cells": [
  {
   "cell_type": "code",
   "execution_count": 3,
   "id": "2f82a5ea-77bb-4acd-a194-ff00705a6053",
   "metadata": {},
   "outputs": [
    {
     "name": "stdout",
     "output_type": "stream",
     "text": [
      "file data in kitkat.txt: hello manuðŸ¥°\n"
     ]
    }
   ],
   "source": [
    "file=open('kitkat.txt','r')\n",
    "data=file.read()\n",
    "print(\"file data in kitkat.txt:\",data)\n",
    "file.close()"
   ]
  },
  {
   "cell_type": "code",
   "execution_count": 14,
   "id": "42af2a44-3c59-47fb-b88e-c9e30719d5e0",
   "metadata": {},
   "outputs": [],
   "source": [
    "f=open('sample.txt','w')\n",
    "f.write(\"hehehe\")\n",
    "f.close()"
   ]
  },
  {
   "cell_type": "code",
   "execution_count": 16,
   "id": "07096889-173a-4a54-9c70-b599c86f0e12",
   "metadata": {},
   "outputs": [],
   "source": [
    "f=open('sample.txt','a')\n",
    "f.write(\"there are plenty of frits in garden..\")\n",
    "f.close()"
   ]
  },
  {
   "cell_type": "code",
   "execution_count": 18,
   "id": "8398f602-895b-4026-bb93-932f3ecc1a64",
   "metadata": {},
   "outputs": [],
   "source": [
    "with open('root.txt','w') as wr:\n",
    "    wr.write(\"hello manu....how are you\")"
   ]
  },
  {
   "cell_type": "code",
   "execution_count": 20,
   "id": "46852070-741c-440f-bd21-f065d28c98ba",
   "metadata": {},
   "outputs": [
    {
     "name": "stdout",
     "output_type": "stream",
     "text": [
      "1st line: Avul Pakir Jainulabdeen Abdul Kalam was an Indian aerospace scientist and statesman who served as the president of India from 2002 to 2007. Born and raised in a Muslim family in Rameswaram, Tamil Nadu, Kalam studied physics and aerospace engineering\n",
      "\n",
      "2nd line:  He was known as the \"Missile Man of India\" for his work on the development of ballistic missile and launch vehicle technology. He also played a pivotal organisational, technical, and political role in Pokhran-II nuclear tests in 1998, India's second such test after the first test in 1974.\n",
      "\n",
      "3rd line: After graduating from the Madras Institute of Technology in 1960, Kalam became a member of the Defence Research & Development Service and joined the Aeronautical Development Establishment of the Defence Research and Development Organisation (DRDO) as a scientist.\n",
      "\n",
      "1st line: On 10 June 2002, the\n",
      "n- line: [' National Democratic Alliance which was in power at the time, expressed its intention to nominate Kalam for the post of the President of India']\n"
     ]
    }
   ],
   "source": [
    "file=open('line.txt','r')\n",
    "print(\"1st line:\",file.readline())\n",
    "print(\"2nd line:\",file.readline())\n",
    "print(\"3rd line:\",file.readline())\n",
    "print(\"1st line:\",file.readline(20))\n",
    "print(\"n- line:\",file.readlines())"
   ]
  },
  {
   "cell_type": "code",
   "execution_count": null,
   "id": "cd6f40d4-9b8d-466c-b525-003149a65b9d",
   "metadata": {},
   "outputs": [],
   "source": []
  }
 ],
 "metadata": {
  "kernelspec": {
   "display_name": "Python 3 (ipykernel)",
   "language": "python",
   "name": "python3"
  },
  "language_info": {
   "codemirror_mode": {
    "name": "ipython",
    "version": 3
   },
   "file_extension": ".py",
   "mimetype": "text/x-python",
   "name": "python",
   "nbconvert_exporter": "python",
   "pygments_lexer": "ipython3",
   "version": "3.12.7"
  }
 },
 "nbformat": 4,
 "nbformat_minor": 5
}
