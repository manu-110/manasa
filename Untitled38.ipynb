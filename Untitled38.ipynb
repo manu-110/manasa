{
 "cells": [
  {
   "cell_type": "code",
   "execution_count": 1,
   "id": "c92d33f4-dab6-4fba-a79b-7f0a4c70cc85",
   "metadata": {},
   "outputs": [
    {
     "name": "stdin",
     "output_type": "stream",
     "text": [
      "enter number of terms to print: 7\n"
     ]
    },
    {
     "name": "stdout",
     "output_type": "stream",
     "text": [
      "fibonacci series...\n",
      "0 1 1 2 3 5 8 "
     ]
    }
   ],
   "source": [
    "#fib on tree recursions 0 1 1 2 3 5 8\n",
    "\n",
    "def fib(n):\n",
    "    if n<=1:\n",
    "        return n\n",
    "    return fib(n-1)+fib(n-2)\n",
    "terms=int(input(\"enter number of terms to print:\"))\n",
    "print((\"fibonacci series...\"))\n",
    "for i in range(terms):\n",
    "    print(fib(i),end=' ')"
   ]
  },
  {
   "cell_type": "code",
   "execution_count": 15,
   "id": "9cc405ce-21d2-426f-8584-69805df0a130",
   "metadata": {},
   "outputs": [
    {
     "name": "stdin",
     "output_type": "stream",
     "text": [
      "enter a name/word: abc\n"
     ]
    },
    {
     "name": "stdout",
     "output_type": "stream",
     "text": [
      "possibilities of combinations...\n",
      "abc\n",
      "acb\n",
      "bac\n",
      "bca\n",
      "cab\n",
      "cba\n"
     ]
    }
   ],
   "source": [
    "'''permutations o char in tree recursion'''\n",
    "\n",
    "def permute(s, bucket=''):\n",
    "    if not s:\n",
    "        print(bucket)\n",
    "        return\n",
    "    for i in range(len(s)):\n",
    "        ns=s[:i]+s[i+1:]\n",
    "        permute(ns,bucket+s[i])\n",
    "\n",
    "text=input(\"enter a name/word:\")\n",
    "print(\"possibilities of combinations...\")\n",
    "permute(text)\n"
   ]
  },
  {
   "cell_type": "code",
   "execution_count": 23,
   "id": "030e3e0d-10eb-43ef-a3ac-5f83d377c7c9",
   "metadata": {},
   "outputs": [
    {
     "name": "stdin",
     "output_type": "stream",
     "text": [
      "enter 5\n"
     ]
    },
    {
     "name": "stdout",
     "output_type": "stream",
     "text": [
      "binary combinations...\n",
      " 00000\n",
      " 00001\n",
      " 00010\n",
      " 00011\n",
      " 00100\n",
      " 00101\n",
      " 00110\n",
      " 00111\n",
      " 01000\n",
      " 01001\n",
      " 01010\n",
      " 01011\n",
      " 01100\n",
      " 01101\n",
      " 01110\n",
      " 01111\n",
      " 10000\n",
      " 10001\n",
      " 10010\n",
      " 10011\n",
      " 10100\n",
      " 10101\n",
      " 10110\n",
      " 10111\n",
      " 11000\n",
      " 11001\n",
      " 11010\n",
      " 11011\n",
      " 11100\n",
      " 11101\n",
      " 11110\n",
      " 11111\n"
     ]
    }
   ],
   "source": [
    "def binary(n,b=' '):\n",
    "    if n==0:\n",
    "        print(b)\n",
    "        return\n",
    "    binary(n-1,b+'0')\n",
    "    binary(n-1,b+'1')\n",
    "length=int(input(\"enter\"))\n",
    "print(\"binary combinations...\")\n",
    "binary(length)"
   ]
  },
  {
   "cell_type": "code",
   "execution_count": 27,
   "id": "0901afe9-e89c-4f1b-a63a-35f2f02831d5",
   "metadata": {},
   "outputs": [
    {
     "name": "stdin",
     "output_type": "stream",
     "text": [
      "enter: 5\n"
     ]
    },
    {
     "name": "stdout",
     "output_type": "stream",
     "text": [
      "5\n",
      "4\n",
      "3\n",
      "2\n",
      "1\n"
     ]
    }
   ],
   "source": [
    "def head(n):\n",
    "    if n==0:\n",
    "        return\n",
    "    print(n)\n",
    "    head(n-1)\n",
    "\n",
    "num=int(input(\"enter:\"))\n",
    "head(num)"
   ]
  },
  {
   "cell_type": "code",
   "execution_count": 29,
   "id": "f915d2ae-c691-44a6-ab1a-88a3eeed0646",
   "metadata": {},
   "outputs": [
    {
     "name": "stdin",
     "output_type": "stream",
     "text": [
      "enter: 5\n"
     ]
    },
    {
     "name": "stdout",
     "output_type": "stream",
     "text": [
      "sum: 15\n"
     ]
    }
   ],
   "source": [
    "def sumhead(n):\n",
    "    if n==0:\n",
    "        return 0\n",
    "    return n+sumhead(n-1)\n",
    "\n",
    "num=int(input(\"enter:\"))\n",
    "print(\"sum:\",sumhead(num))"
   ]
  },
  {
   "cell_type": "code",
   "execution_count": 31,
   "id": "d050829c-ea28-4b92-b284-93dbf6754236",
   "metadata": {},
   "outputs": [
    {
     "name": "stdin",
     "output_type": "stream",
     "text": [
      "enter: 5\n"
     ]
    },
    {
     "name": "stdout",
     "output_type": "stream",
     "text": [
      "sum: 15\n"
     ]
    },
    {
     "name": "stdin",
     "output_type": "stream",
     "text": [
      "enter: 10\n"
     ]
    },
    {
     "name": "stdout",
     "output_type": "stream",
     "text": [
      "sum: 55\n"
     ]
    }
   ],
   "source": [
    "def sumhead(n):\n",
    "    if n==0:\n",
    "        return 0\n",
    "    return n+sumhead(n-1)\n",
    "\n",
    "num=int(input(\"enter:\"))\n",
    "print(\"sum:\",sumhead(num))\n",
    "\n",
    "def sumtail(n,temp=0):\n",
    "    if n==0:\n",
    "        return temp\n",
    "    return sumtail(n-1,temp+n)\n",
    "\n",
    "num=int(input(\"enter:\"))\n",
    "print(\"sum:\",sumtail(num))"
   ]
  },
  {
   "cell_type": "code",
   "execution_count": null,
   "id": "694f04f6-32e3-478c-8780-fc34f9a5c652",
   "metadata": {},
   "outputs": [],
   "source": []
  }
 ],
 "metadata": {
  "kernelspec": {
   "display_name": "Python 3 (ipykernel)",
   "language": "python",
   "name": "python3"
  },
  "language_info": {
   "codemirror_mode": {
    "name": "ipython",
    "version": 3
   },
   "file_extension": ".py",
   "mimetype": "text/x-python",
   "name": "python",
   "nbconvert_exporter": "python",
   "pygments_lexer": "ipython3",
   "version": "3.12.7"
  }
 },
 "nbformat": 4,
 "nbformat_minor": 5
}
