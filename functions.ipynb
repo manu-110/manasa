{
 "cells": [
  {
   "cell_type": "code",
   "execution_count": 1,
   "id": "4ea9bc39-794a-4362-9144-4b441cf52b94",
   "metadata": {},
   "outputs": [
    {
     "name": "stdout",
     "output_type": "stream",
     "text": [
      "this is a outer function....\n",
      "this is an inner function..\n"
     ]
    }
   ],
   "source": [
    "def outer():\n",
    "    print(\"this is a outer function....\")\n",
    "    def inner():\n",
    "        print(\"this is an inner function..\")\n",
    "    inner()\n",
    "outer()"
   ]
  },
  {
   "cell_type": "code",
   "execution_count": 2,
   "id": "1bf2f46d-7a49-4404-b527-cc9d6776747e",
   "metadata": {},
   "outputs": [
    {
     "name": "stdin",
     "output_type": "stream",
     "text": [
      "enter a number 7\n",
      "enter a number 4\n"
     ]
    },
    {
     "name": "stdout",
     "output_type": "stream",
     "text": [
      "addition 11\n",
      "subraction 3\n",
      "product 28\n",
      "division 1.75\n"
     ]
    }
   ],
   "source": [
    "def cal(a,b):\n",
    "    def add():\n",
    "        return a+b\n",
    "    def sub():\n",
    "        return a-b\n",
    "    def mul():\n",
    "        return a*b\n",
    "    def div():\n",
    "        return a/b\n",
    "    print(\"addition\",add())\n",
    "    print(\"subraction\",sub())\n",
    "    print(\"product\",mul())\n",
    "    print(\"division\",div())\n",
    "a=int(input(\"enter a number\"))\n",
    "b=int(input(\"enter a number\"))\n",
    "cal(a,b)"
   ]
  },
  {
   "cell_type": "code",
   "execution_count": 3,
   "id": "15a3987d-1692-40a6-be82-4884e073439d",
   "metadata": {},
   "outputs": [
    {
     "name": "stdout",
     "output_type": "stream",
     "text": [
      "10\n",
      "15\n"
     ]
    }
   ],
   "source": [
    "def mul_by(n):\n",
    "    def inner(x): #call inner function x=5\n",
    "        return x*n #x*2 x*3\n",
    "    return inner\n",
    "times_2=mul_by(2) #n=2,\n",
    "times_3=mul_by(3) #n=3,\n",
    "print(times_2(5))\n",
    "print(times_3(5))"
   ]
  },
  {
   "cell_type": "code",
   "execution_count": 4,
   "id": "f303c546-b485-4b38-9324-b48ce37bf73e",
   "metadata": {},
   "outputs": [
    {
     "name": "stdout",
     "output_type": "stream",
     "text": [
      "hello,manu!!!!!!\n"
     ]
    }
   ],
   "source": [
    "def greet(text):\n",
    "    def inner(name):\n",
    "        return f\"{text},{name}!!!!!!\"\n",
    "    return inner\n",
    "hi=greet('hello')\n",
    "print(hi(\"manu\"))"
   ]
  },
  {
   "cell_type": "code",
   "execution_count": 5,
   "id": "3c73c2be-67c6-4568-a330-f4d46e90d19c",
   "metadata": {},
   "outputs": [
    {
     "name": "stdout",
     "output_type": "stream",
     "text": [
      "hello,Mr.apple\n",
      "hello,Mrs.mango\n"
     ]
    }
   ],
   "source": [
    "def titled(title):\n",
    "    def greet(name):\n",
    "        return f\"hello,{title}{name}\"\n",
    "    return greet\n",
    "mr_greet=titled(\"Mr.\")\n",
    "dr_greet=titled(\"Mrs.\")\n",
    "print(mr_greet(\"apple\"))\n",
    "print(dr_greet(\"mango\"))"
   ]
  },
  {
   "cell_type": "code",
   "execution_count": 6,
   "id": "2d65c122-ad9f-408e-bd09-7e6809252f3a",
   "metadata": {},
   "outputs": [
    {
     "name": "stdout",
     "output_type": "stream",
     "text": [
      "x=  22\n",
      "locally 32\n",
      "x= 100\n",
      "latest value of y globally: 25\n",
      "globally 125\n"
     ]
    }
   ],
   "source": [
    "x=100\n",
    "y=10\n",
    "def display():\n",
    "    x=22\n",
    "    print(\"x= \",x)\n",
    "    print(\"locally\",x+y)\n",
    "display()\n",
    "print(\"x=\",x)\n",
    "y=10\n",
    "y=25\n",
    "print(\"latest value of y globally:\",y)\n",
    "print(\"globally\",x+y)\n",
    "    "
   ]
  },
  {
   "cell_type": "code",
   "execution_count": 7,
   "id": "9e6ecdcc-07a8-4779-a272-83befd5c0892",
   "metadata": {},
   "outputs": [
    {
     "name": "stdin",
     "output_type": "stream",
     "text": [
      "enter the marks 98\n"
     ]
    },
    {
     "name": "stdout",
     "output_type": "stream",
     "text": [
      "subject1 marks: 98\n"
     ]
    },
    {
     "name": "stdin",
     "output_type": "stream",
     "text": [
      "enter the marks 90\n"
     ]
    },
    {
     "name": "stdout",
     "output_type": "stream",
     "text": [
      "subject2 marks: 90\n"
     ]
    },
    {
     "name": "stdin",
     "output_type": "stream",
     "text": [
      "enter the marks 85\n"
     ]
    },
    {
     "name": "stdout",
     "output_type": "stream",
     "text": [
      "subject3 marks: 85\n",
      "total marks stored in global: 273\n"
     ]
    }
   ],
   "source": [
    "total=0\n",
    "def add_subject_marks():\n",
    "    global total \n",
    "    marks=int(input(\"enter the marks\"))\n",
    "    total+=marks\n",
    "    return marks\n",
    "print(\"subject1 marks:\",add_subject_marks())\n",
    "print(\"subject2 marks:\",add_subject_marks())\n",
    "print(\"subject3 marks:\",add_subject_marks())\n",
    "print(\"total marks stored in global:\",total)"
   ]
  },
  {
   "cell_type": "code",
   "execution_count": null,
   "id": "acdab52e-494a-44e3-9753-61feb38fa4db",
   "metadata": {},
   "outputs": [],
   "source": [
    "subject_marks=[]\n",
    "def add_subject_marks():\n",
    "    mark=int(input(\"enter marks for a subject:\"))\n",
    "    subject_marks.append(mark)\n",
    "    return mark \n",
    "print(\"subject 1 marks:\",add_subject_marks() )\n",
    "print(\"subject 2 marks:\",add_subject_marks() )\n",
    "print(\"subject 3 marks:\",add_subject_marks() )\n",
    "print(\"all subject marks:\",subject_marks )\n",
    "total=sum(subject_marks)\n",
    "l=len(subject_marks)\n",
    "avg=total/l\n",
    "print(\"total marks\",total) \n",
    "print(\"average\",avg)"
   ]
  }
 ],
 "metadata": {
  "kernelspec": {
   "display_name": "Python 3 (ipykernel)",
   "language": "python",
   "name": "python3"
  },
  "language_info": {
   "codemirror_mode": {
    "name": "ipython",
    "version": 3
   },
   "file_extension": ".py",
   "mimetype": "text/x-python",
   "name": "python",
   "nbconvert_exporter": "python",
   "pygments_lexer": "ipython3",
   "version": "3.13.4"
  }
 },
 "nbformat": 4,
 "nbformat_minor": 5
}
