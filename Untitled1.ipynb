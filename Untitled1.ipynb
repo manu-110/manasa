{
 "cells": [
  {
   "cell_type": "code",
   "execution_count": 1,
   "id": "37033733-1ed8-417a-bb9c-cb6fe83d6df6",
   "metadata": {},
   "outputs": [
    {
     "name": "stdin",
     "output_type": "stream",
     "text": [
      "enter the size 5\n"
     ]
    },
    {
     "name": "stdout",
     "output_type": "stream",
     "text": [
      "* * * * * \n",
      "* * * * * \n",
      "* * * * * \n",
      "* * * * * \n",
      "* * * * * \n"
     ]
    }
   ],
   "source": [
    "n=int(input(\"enter the size\"))\n",
    "for i in range(n):\n",
    "    for j in range(n):\n",
    "        print(\"*\",end=' ')\n",
    "    print()"
   ]
  },
  {
   "cell_type": "code",
   "execution_count": 2,
   "id": "252c628e-4425-4bd3-a4b4-2a6d13ef696a",
   "metadata": {},
   "outputs": [
    {
     "name": "stdin",
     "output_type": "stream",
     "text": [
      "enter the size 5\n"
     ]
    },
    {
     "name": "stdout",
     "output_type": "stream",
     "text": [
      "* * * * * \n",
      "*       * \n",
      "*       * \n",
      "*       * \n",
      "* * * * * \n"
     ]
    }
   ],
   "source": [
    "n=int(input(\"enter the size\"))\n",
    "for i in range(n):\n",
    "    for j in range(n):\n",
    "        if i==0 or i==n-1 or j==0 or j==n-1:\n",
    "            print(\"*\",end=' ')\n",
    "        else:\n",
    "            print(\" \",end=\" \")\n",
    "    print()"
   ]
  },
  {
   "cell_type": "code",
   "execution_count": 3,
   "id": "48dc5a59-a8f8-403c-bbd0-677d4c345a79",
   "metadata": {},
   "outputs": [
    {
     "name": "stdin",
     "output_type": "stream",
     "text": [
      "enter the size 5\n"
     ]
    },
    {
     "name": "stdout",
     "output_type": "stream",
     "text": [
      "* * * * * \n",
      "*     * * \n",
      "*   *   * \n",
      "* *     * \n",
      "* * * * * \n"
     ]
    }
   ],
   "source": [
    "n=int(input(\"enter the size\"))\n",
    "for i in range(n):\n",
    "    for j in range(n):\n",
    "        if i==0 or i==n-1 or j==0 or j==n-1 or i+j==n-1:\n",
    "            print(\"*\",end=' ')\n",
    "        else:\n",
    "            print(\" \",end=\" \")\n",
    "    print()"
   ]
  },
  {
   "cell_type": "code",
   "execution_count": 4,
   "id": "b59f6835-eb85-4126-9943-1fe8507fdcbc",
   "metadata": {},
   "outputs": [
    {
     "name": "stdin",
     "output_type": "stream",
     "text": [
      "enter the size 6\n"
     ]
    },
    {
     "name": "stdout",
     "output_type": "stream",
     "text": [
      "*         * \n",
      "* *     * * \n",
      "*   * *   * \n",
      "*   * *   * \n",
      "* *     * * \n",
      "*         * \n"
     ]
    }
   ],
   "source": [
    "n=int(input(\"enter the size\"))\n",
    "for i in range(n):\n",
    "    for j in range(n):\n",
    "        if j==0 or j==n-1 or i==j or i+j==n-1:\n",
    "            print(\"*\",end=' ')\n",
    "        else:\n",
    "            print(\" \",end=\" \")\n",
    "    print()"
   ]
  },
  {
   "cell_type": "code",
   "execution_count": 6,
   "id": "218fb7ac-5323-48a7-8742-b2c39cf00439",
   "metadata": {},
   "outputs": [
    {
     "name": "stdin",
     "output_type": "stream",
     "text": [
      "enter the size 6\n"
     ]
    },
    {
     "name": "stdout",
     "output_type": "stream",
     "text": [
      "*         * \n",
      "  *     *   \n",
      "    * *     \n",
      "    * *     \n",
      "  *     *   \n",
      "*         * \n"
     ]
    }
   ],
   "source": [
    "n=int(input(\"enter the size\"))\n",
    "for i in range(n):\n",
    "    for j in range(n):\n",
    "        if i==j or i+j==n-1:\n",
    "            print(\"*\",end=' ')\n",
    "        else:\n",
    "            print(\" \",end=\" \")\n",
    "    print()"
   ]
  },
  {
   "cell_type": "code",
   "execution_count": 7,
   "id": "e571a1a2-e957-4191-8bce-1c626d0726d2",
   "metadata": {},
   "outputs": [
    {
     "name": "stdin",
     "output_type": "stream",
     "text": [
      "enter the size 4\n"
     ]
    },
    {
     "name": "stdout",
     "output_type": "stream",
     "text": [
      "* * * * \n",
      "    * * \n",
      "  *   * \n",
      "*     * \n"
     ]
    }
   ],
   "source": [
    "n=int(input(\"enter the size\"))\n",
    "for i in range(n):\n",
    "    for j in range(n):\n",
    "        if i==0 or j==n-1 or i+j==n-1:\n",
    "            print(\"*\",end=' ')\n",
    "        else:\n",
    "            print(\" \",end=\" \")\n",
    "    print()"
   ]
  },
  {
   "cell_type": "code",
   "execution_count": 8,
   "id": "1dfa4fa8-c596-4c6c-b954-01b1e45b39db",
   "metadata": {},
   "outputs": [
    {
     "name": "stdin",
     "output_type": "stream",
     "text": [
      "enter the size 5\n"
     ]
    },
    {
     "name": "stdout",
     "output_type": "stream",
     "text": [
      "        * \n",
      "      * * \n",
      "    *   * \n",
      "  *     * \n",
      "* * * * * \n"
     ]
    }
   ],
   "source": [
    "n=int(input(\"enter the size\"))\n",
    "for i in range(n):\n",
    "    for j in range(n):\n",
    "        if i==n-1 or j==n-1 or i+j==n-1:\n",
    "            print(\"*\",end=' ')\n",
    "        else:\n",
    "            print(\" \",end=\" \")\n",
    "    print()"
   ]
  },
  {
   "cell_type": "code",
   "execution_count": 10,
   "id": "9b7509de-a39e-40e6-83dc-487dc9629d9c",
   "metadata": {},
   "outputs": [
    {
     "name": "stdin",
     "output_type": "stream",
     "text": [
      "enter the size 7\n"
     ]
    },
    {
     "name": "stdout",
     "output_type": "stream",
     "text": [
      "* * * * * * * \n",
      "* *       * * \n",
      "*   *   *   * \n",
      "*     *     * \n",
      "*   *   *   * \n",
      "* *       * * \n",
      "* * * * * * * \n"
     ]
    }
   ],
   "source": [
    "n=int(input(\"enter the size\"))\n",
    "for i in range(n):\n",
    "    for j in range(n):\n",
    "        if i==0 or i==n-1 or j==0 or j==n-1 or i+j==n-1 or i==j:\n",
    "            print(\"*\",end=' ')\n",
    "        else:\n",
    "            print(\" \",end=\" \")\n",
    "    print()"
   ]
  },
  {
   "cell_type": "code",
   "execution_count": 11,
   "id": "ee5661df-48b6-415c-b67d-d28e8740c651",
   "metadata": {},
   "outputs": [
    {
     "name": "stdin",
     "output_type": "stream",
     "text": [
      "enter the size 5\n"
     ]
    },
    {
     "name": "stdout",
     "output_type": "stream",
     "text": [
      "*         \n",
      "  *       \n",
      "    *     \n",
      "      *   \n",
      "        * \n"
     ]
    }
   ],
   "source": [
    "n=int(input(\"enter the size\"))\n",
    "for i in range(n):\n",
    "    for j in range(n):\n",
    "        if i==n or j==n or j==i:\n",
    "            print(\"*\",end=' ')\n",
    "        else:\n",
    "            print(\" \",end=\" \")\n",
    "    print()"
   ]
  },
  {
   "cell_type": "code",
   "execution_count": 12,
   "id": "a99be8b2-f78d-46e6-92f4-cb9bdbe9aac5",
   "metadata": {},
   "outputs": [
    {
     "name": "stdin",
     "output_type": "stream",
     "text": [
      "enter the size 7\n"
     ]
    },
    {
     "name": "stdout",
     "output_type": "stream",
     "text": [
      "      *       \n",
      "      *       \n",
      "      *       \n",
      "* * * * * * * \n",
      "      *       \n",
      "      *       \n",
      "      *       \n"
     ]
    }
   ],
   "source": [
    "n=int(input(\"enter the size\"))\n",
    "for i in range(n):\n",
    "    for j in range(n):\n",
    "        if i==n//2 or j==n//2:\n",
    "            print(\"*\",end=' ')\n",
    "        else:\n",
    "            print(\" \",end=\" \")\n",
    "    print()"
   ]
  },
  {
   "cell_type": "code",
   "execution_count": 13,
   "id": "d2ad9f8f-b492-4f58-bf1d-1d3a856d0f4b",
   "metadata": {},
   "outputs": [
    {
     "name": "stdin",
     "output_type": "stream",
     "text": [
      "enter the size 6\n"
     ]
    },
    {
     "name": "stdout",
     "output_type": "stream",
     "text": [
      "\n",
      "* \n",
      "* * \n",
      "* * * \n",
      "* * * * \n",
      "* * * * * \n"
     ]
    }
   ],
   "source": [
    "n=int(input(\"enter the size\"))\n",
    "for i in range(n):\n",
    "    for j in range(i):\n",
    "            print(\"*\",end=' ')\n",
    "    print()"
   ]
  },
  {
   "cell_type": "code",
   "execution_count": 14,
   "id": "da2dd600-2cbd-43a4-b0ca-a23c23eee60a",
   "metadata": {},
   "outputs": [
    {
     "name": "stdin",
     "output_type": "stream",
     "text": [
      "enter the size 5\n"
     ]
    },
    {
     "name": "stdout",
     "output_type": "stream",
     "text": [
      "\n",
      "0 \n",
      "0 1 \n",
      "0 1 2 \n",
      "0 1 2 3 \n"
     ]
    }
   ],
   "source": [
    "n=int(input(\"enter the size\"))\n",
    "for i in range(n):\n",
    "    for j in range(i):\n",
    "        print(j,end=' ')\n",
    "    print()"
   ]
  },
  {
   "cell_type": "code",
   "execution_count": 17,
   "id": "d24c9feb-1a4b-4978-b586-adc7fbc3cd91",
   "metadata": {},
   "outputs": [
    {
     "name": "stdin",
     "output_type": "stream",
     "text": [
      "enter the size 6\n"
     ]
    },
    {
     "name": "stdout",
     "output_type": "stream",
     "text": [
      "          * \n",
      "        * * * \n",
      "      * * * * * \n",
      "    * * * * * * * \n",
      "  * * * * * * * * * \n",
      "* * * * * * * * * * * \n"
     ]
    }
   ],
   "source": [
    "n=int(input(\"enter the size\"))\n",
    "for i in range(1,n+1):\n",
    "    for j in range(n-i):\n",
    "        print(' ',end=' ')\n",
    "    for k in range(2*i-1):\n",
    "        print(\"*\",end=\" \")\n",
    "    print()"
   ]
  },
  {
   "cell_type": "code",
   "execution_count": 18,
   "id": "8b00045f-d7e6-4aa5-8ee3-fab5ae748460",
   "metadata": {},
   "outputs": [
    {
     "name": "stdin",
     "output_type": "stream",
     "text": [
      "enter the size 6\n"
     ]
    },
    {
     "name": "stdout",
     "output_type": "stream",
     "text": [
      "* * * * * * * * * * * \n",
      "  * * * * * * * * * \n",
      "    * * * * * * * \n",
      "      * * * * * \n",
      "        * * * \n",
      "          * \n"
     ]
    }
   ],
   "source": [
    "n=int(input(\"enter the size\"))\n",
    "for i in range(n,0,-1):\n",
    "    for j in range(n-i):\n",
    "        print(' ',end=' ')\n",
    "    for k in range(2*i-1):\n",
    "        print(\"*\",end=\" \")\n",
    "    print()"
   ]
  },
  {
   "cell_type": "code",
   "execution_count": 19,
   "id": "4496a9bd-4120-4ef0-baee-c99938634e42",
   "metadata": {},
   "outputs": [
    {
     "name": "stdin",
     "output_type": "stream",
     "text": [
      "enter the size 6\n"
     ]
    },
    {
     "name": "stdout",
     "output_type": "stream",
     "text": [
      "          * \n",
      "        * * * \n",
      "      * * * * * \n",
      "    * * * * * * * \n",
      "  * * * * * * * * * \n",
      "* * * * * * * * * * * \n",
      "* * * * * * * * * * * \n",
      "  * * * * * * * * * \n",
      "    * * * * * * * \n",
      "      * * * * * \n",
      "        * * * \n",
      "          * \n"
     ]
    }
   ],
   "source": [
    "n=int(input(\"enter the size\"))\n",
    "for i in range(1,n+1):\n",
    "    for j in range(n-i):\n",
    "        print(' ',end=' ')\n",
    "    for k in range(2*i-1):\n",
    "        print(\"*\",end=\" \")\n",
    "    print()\n",
    "for i in range(n,0,-1):\n",
    "    for j in range(n-i):\n",
    "        print(' ',end=' ')\n",
    "    for k in range(2*i-1):\n",
    "        print(\"*\",end=\" \")\n",
    "    print()"
   ]
  },
  {
   "cell_type": "code",
   "execution_count": 20,
   "id": "31608cd9-9709-4e42-8939-d9184ea6de91",
   "metadata": {},
   "outputs": [
    {
     "name": "stdin",
     "output_type": "stream",
     "text": [
      "enter the size 6\n"
     ]
    },
    {
     "name": "stdout",
     "output_type": "stream",
     "text": [
      "* * \n",
      "  * * \n",
      "    * * \n",
      "      * * \n",
      "        * * \n",
      "          * \n"
     ]
    }
   ],
   "source": [
    "n=int(input(\"enter the size\"))\n",
    "for i in range(n,0,-1):\n",
    "    for j in range(n-i):\n",
    "        print(' ',end=' ')\n",
    "    for k in range(2*i-1):\n",
    "        if k==0 or k==2*i-2:\n",
    "            print(\"*\",end=\" \")\n",
    "    print()"
   ]
  },
  {
   "cell_type": "code",
   "execution_count": 29,
   "id": "10b80293-e378-46c1-9ff4-d91d39154b63",
   "metadata": {},
   "outputs": [
    {
     "name": "stdin",
     "output_type": "stream",
     "text": [
      "enter the size 6\n"
     ]
    },
    {
     "name": "stdout",
     "output_type": "stream",
     "text": [
      "          * \n",
      "        * * \n",
      "      * * \n",
      "    * * \n",
      "  * * \n",
      "* * \n",
      "* * * * * * * * * * * \n",
      "  * * * * * * * * * \n",
      "    * * * * * * * \n",
      "      * * * * * \n",
      "        * * * \n",
      "          * \n"
     ]
    }
   ],
   "source": [
    "n=int(input(\"enter the size\"))\n",
    "for i in range(1,n+1):\n",
    "    for j in range(n-i):\n",
    "        print(' ',end=' ')\n",
    "    for k in range(2*i-1):\n",
    "        if k==0 or k==2*i-2:\n",
    "            print(\"*\",end=\" \")\n",
    "    print()\n",
    "for i in range(n,0,-1):\n",
    "    for j in range(n-i):\n",
    "        print(' ',end=' ')\n",
    "    for k in range(2*i-1):\n",
    "        print(\"*\",end=\" \")\n",
    "    print()"
   ]
  },
  {
   "cell_type": "code",
   "execution_count": null,
   "id": "82155c98-1156-47e7-82f6-7789e2e11462",
   "metadata": {},
   "outputs": [],
   "source": []
  }
 ],
 "metadata": {
  "kernelspec": {
   "display_name": "Python 3 (ipykernel)",
   "language": "python",
   "name": "python3"
  },
  "language_info": {
   "codemirror_mode": {
    "name": "ipython",
    "version": 3
   },
   "file_extension": ".py",
   "mimetype": "text/x-python",
   "name": "python",
   "nbconvert_exporter": "python",
   "pygments_lexer": "ipython3",
   "version": "3.13.4"
  }
 },
 "nbformat": 4,
 "nbformat_minor": 5
}
