{
 "cells": [
  {
   "cell_type": "code",
   "execution_count": 1,
   "id": "a703eea0-7539-4d98-97b6-4bc6d45616f0",
   "metadata": {},
   "outputs": [
    {
     "name": "stdout",
     "output_type": "stream",
     "text": [
      "hi students\n",
      "india\n"
     ]
    }
   ],
   "source": [
    "num=99\n",
    "if(num>0):\n",
    "    print(\"hi students\")\n",
    "print(\"india\")"
   ]
  },
  {
   "cell_type": "code",
   "execution_count": 2,
   "id": "858cda71-0d1e-40e8-9f63-3572ee22fabe",
   "metadata": {},
   "outputs": [
    {
     "name": "stdout",
     "output_type": "stream",
     "text": [
      "india\n"
     ]
    }
   ],
   "source": [
    "num=-99\n",
    "if(num>0): \n",
    "    print(\"hi students\")\n",
    "print(\"india\")"
   ]
  },
  {
   "cell_type": "code",
   "execution_count": 4,
   "id": "15b6b668-87ac-417f-acb9-b43a4f65be8c",
   "metadata": {},
   "outputs": [
    {
     "name": "stdin",
     "output_type": "stream",
     "text": [
      "enter the age 19\n"
     ]
    },
    {
     "name": "stdout",
     "output_type": "stream",
     "text": [
      "eligible\n"
     ]
    }
   ],
   "source": [
    "'''write a progra to check whether the person is eligible to vote by using if condition.\n",
    "testcase:\n",
    "input 23\n",
    "output:eligible'''\n",
    "person=int(input(\"enter the age\"))\n",
    "limit=18\n",
    "if person>=limit:\n",
    "    print(\"eligible\")"
   ]
  },
  {
   "cell_type": "code",
   "execution_count": 5,
   "id": "be5a796f-1b6e-4b82-a7f5-b28cfde26f76",
   "metadata": {},
   "outputs": [
    {
     "name": "stdin",
     "output_type": "stream",
     "text": [
      "enter the number 5\n"
     ]
    },
    {
     "name": "stdout",
     "output_type": "stream",
     "text": [
      "after condition exit\n"
     ]
    }
   ],
   "source": [
    "'''print whether the number is even and skip the condition if not'''\n",
    "num=int(input(\"enter the number\"))\n",
    "if num%2==0:\n",
    "    print(num,\"is a odd number\")#num!=0\n",
    "print(\"after condition exit\")\n"
   ]
  },
  {
   "cell_type": "code",
   "execution_count": 6,
   "id": "fdfee900-750a-4182-b5d6-2f5e02013896",
   "metadata": {},
   "outputs": [
    {
     "name": "stdin",
     "output_type": "stream",
     "text": [
      "press any key: 7\n"
     ]
    },
    {
     "name": "stdout",
     "output_type": "stream",
     "text": [
      "the user has entered digit\n"
     ]
    }
   ],
   "source": [
    "'''program to deter4mine the character entered by a user ,whether it is an alphabet,\n",
    "digit or pace by using seperate if condition and predefined string function'''\n",
    "char=input(\"press any key:\")\n",
    "if char.isalpha():\n",
    "    print(\"the user has entered character\")\n",
    "if char.isdigit():\n",
    "    print(\"the user has entered digit\")\n",
    "if char.isspace():\n",
    "    print(\"the user has ntered space\")    "
   ]
  },
  {
   "cell_type": "code",
   "execution_count": 7,
   "id": "91e4b5f9-e3bf-4e6f-8148-18a674e7ddfd",
   "metadata": {},
   "outputs": [
    {
     "name": "stdin",
     "output_type": "stream",
     "text": [
      "press any key: 9\n"
     ]
    },
    {
     "name": "stdout",
     "output_type": "stream",
     "text": [
      "the user has entered digit\n"
     ]
    }
   ],
   "source": [
    "'''program to deter4mine the character entered by a user ,whether it is an alphabet,\n",
    "digit or pace by using seperate if condition and predefined string function'''\n",
    "char=input(\"press any key:\")\n",
    "if char.isalpha():\n",
    "    print(\"the user has entered character\")\n",
    "if char.isdigit():\n",
    "    print(\"the user has entered digit\")\n",
    "if char.isspace():\n",
    "    print(\"the user has ntered space\")    "
   ]
  },
  {
   "cell_type": "code",
   "execution_count": 8,
   "id": "5297b539-60a4-4e03-b1cb-6b541080eeb7",
   "metadata": {},
   "outputs": [
    {
     "name": "stdin",
     "output_type": "stream",
     "text": [
      "enter any character from a-z t\n"
     ]
    },
    {
     "name": "stdout",
     "output_type": "stream",
     "text": [
      "converted case of input char: T\n"
     ]
    }
   ],
   "source": [
    "ch=input(\"enter any character from a-z\")\n",
    "if ch>='A' and ch<='Z':\n",
    "    ch=ch.lower()\n",
    "    print(\"converted case of input char:\",ch)\n",
    "else:\n",
    "    ch=ch.upper()\n",
    "    print(\"converted case of input char:\",ch)"
   ]
  },
  {
   "cell_type": "code",
   "execution_count": 9,
   "id": "bb0c67f5-a4ce-4a0a-b3cb-26f4ef1e37db",
   "metadata": {},
   "outputs": [
    {
     "name": "stdin",
     "output_type": "stream",
     "text": [
      "enter year: 2004\n"
     ]
    },
    {
     "name": "stdout",
     "output_type": "stream",
     "text": [
      "2004 is a leap year\n"
     ]
    }
   ],
   "source": [
    "'''check whether the given input is aleap year \n",
    "for 4 years and centurians by if-else'''\n",
    "y=int(input(\"enter year:\"))\n",
    "if y%4==0 or y%100==0 or y%400==0:\n",
    "    print(y,\"is a leap year\")\n",
    "else:\n",
    "    print(y,\"is not a leap year\")\n"
   ]
  },
  {
   "cell_type": "code",
   "execution_count": 10,
   "id": "bcb2b3d1-5d23-42ba-a59a-4a9536b67f31",
   "metadata": {},
   "outputs": [
    {
     "name": "stdin",
     "output_type": "stream",
     "text": [
      "enter the number: 0\n"
     ]
    },
    {
     "name": "stdout",
     "output_type": "stream",
     "text": [
      "zero entered\n"
     ]
    }
   ],
   "source": [
    "'''write a program to check whether the given number is a positive ,negative and zero'''\n",
    "num=int(input(\"enter the number:\"))\n",
    "if num==0:\n",
    "    print(\"zero entered\")\n",
    "elif num>0:\n",
    "    print(\"positive number\")\n",
    "else:\n",
    "    print(\"negative number\")"
   ]
  },
  {
   "cell_type": "code",
   "execution_count": 11,
   "id": "4d6fba4d-a6d6-4ca3-9804-e3ddc93fc889",
   "metadata": {},
   "outputs": [
    {
     "name": "stdin",
     "output_type": "stream",
     "text": [
      "enter the number: -2\n"
     ]
    },
    {
     "name": "stdout",
     "output_type": "stream",
     "text": [
      "negative number\n"
     ]
    }
   ],
   "source": [
    "num=int(input(\"enter the number:\"))\n",
    "if num==0:\n",
    "    print(\"zero entered\")\n",
    "elif num>0:\n",
    "    print(\"positive number\")\n",
    "else:\n",
    "    print(\"negative number\")"
   ]
  },
  {
   "cell_type": "code",
   "execution_count": 12,
   "id": "97d6bd4b-5249-4f1f-b26f-d6a0abb18399",
   "metadata": {},
   "outputs": [
    {
     "name": "stdin",
     "output_type": "stream",
     "text": [
      "enter the number: 2\n"
     ]
    },
    {
     "name": "stdout",
     "output_type": "stream",
     "text": [
      "positive number\n"
     ]
    }
   ],
   "source": [
    "num=int(input(\"enter the number:\"))\n",
    "if num==0:\n",
    "    print(\"zero entered\")\n",
    "elif num>0:\n",
    "    print(\"positive number\")\n",
    "else:\n",
    "    print(\"negative number\")"
   ]
  },
  {
   "cell_type": "code",
   "execution_count": 13,
   "id": "d4b8adfc-c00b-4b41-9b12-18a63ba7768e",
   "metadata": {},
   "outputs": [
    {
     "name": "stdin",
     "output_type": "stream",
     "text": [
      "enter the number between 1-7: 5\n"
     ]
    },
    {
     "name": "stdout",
     "output_type": "stream",
     "text": [
      "thursday\n"
     ]
    }
   ],
   "source": [
    "num=int(input(\"enter the number between 1-7:\"))\n",
    "if num==1: print(\"sunday\")\n",
    "elif num==2: print(\"monday\")\n",
    "elif num==3: print(\"tuesday\")\n",
    "elif num==4: print(\"wednesday\")\n",
    "elif num==5: print(\"thursday\")\n",
    "elif num==6: print(\"friday\")\n",
    "elif num==7: print(\"saturday\")\n",
    "else: print(\"wrong input\")"
   ]
  },
  {
   "cell_type": "code",
   "execution_count": 14,
   "id": "a9149b31-16a9-40f0-b49d-b33856fa24c7",
   "metadata": {},
   "outputs": [
    {
     "name": "stdin",
     "output_type": "stream",
     "text": [
      "enter any character from a-z r\n"
     ]
    },
    {
     "name": "stdout",
     "output_type": "stream",
     "text": [
      "converted case of input char: R\n"
     ]
    }
   ],
   "source": [
    "'''write a program to enter a character (a to z),\n",
    "if the entered character is in lower convert into upper and viceversa\n",
    "input:a\n",
    "output:A\n",
    "input:y\n",
    "output:Y'''\n",
    "ch=input(\"enter any character from a-z\")\n",
    "if ch>='A' and ch<='Z':\n",
    "    ch=ch.lower()\n",
    "    print(\"converted case of input char:\",ch)\n",
    "else:\n",
    "    ch=ch.upper()\n",
    "    print(\"converted case of input char:\",ch)"
   ]
  },
  {
   "cell_type": "code",
   "execution_count": null,
   "id": "53af300f-0ce7-4eb9-a34a-6322f252d5d2",
   "metadata": {},
   "outputs": [],
   "source": []
  }
 ],
 "metadata": {
  "kernelspec": {
   "display_name": "Python 3 (ipykernel)",
   "language": "python",
   "name": "python3"
  },
  "language_info": {
   "codemirror_mode": {
    "name": "ipython",
    "version": 3
   },
   "file_extension": ".py",
   "mimetype": "text/x-python",
   "name": "python",
   "nbconvert_exporter": "python",
   "pygments_lexer": "ipython3",
   "version": "3.13.4"
  }
 },
 "nbformat": 4,
 "nbformat_minor": 5
}
